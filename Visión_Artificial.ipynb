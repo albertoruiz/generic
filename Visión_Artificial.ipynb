{
 "cells": [
  {
   "cell_type": "markdown",
   "metadata": {},
   "source": [
    "# Visión Artificial\n",
    "\n",
    "<big><strong>Grado en Ingeniería Informática</strong> -  UMU</big>"
   ]
  },
  {
   "cell_type": "markdown",
   "metadata": {},
   "source": [
    "Evalúa la siguiente celda y luego [pincha aquí](umucv-master/notebooks/VIA.ipynb)."
   ]
  },
  {
   "cell_type": "code",
   "execution_count": null,
   "metadata": {},
   "outputs": [],
   "source": [
    "! rm -rf master.zip\n",
    "! wget -nv https://github.com/albertoruiz/umucv/archive/master.zip\n",
    "! unzip -oq master.zip\n",
    "! pip install https://robot.inf.um.es/material/umucv.tar.gz"
   ]
  }
 ],
 "metadata": {
  "kernelspec": {
   "display_name": "Python 3",
   "language": "python",
   "name": "python3"
  },
  "language_info": {
   "codemirror_mode": {
    "name": "ipython",
    "version": 3
   },
   "file_extension": ".py",
   "mimetype": "text/x-python",
   "name": "python",
   "nbconvert_exporter": "python",
   "pygments_lexer": "ipython3",
   "version": "3.6.4"
  }
 },
 "nbformat": 4,
 "nbformat_minor": 4
}
